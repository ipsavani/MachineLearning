{
 "cells": [
  {
   "cell_type": "code",
   "execution_count": 65,
   "id": "abe70fb7",
   "metadata": {},
   "outputs": [],
   "source": [
    "from tensorflow.keras.datasets import mnist\n",
    "from matplotlib import pyplot as plt\n",
    "from tensorflow.keras.utils import to_categorical\n",
    "from sklearn.metrics import accuracy_score, classification_report\n",
    "import pandas as pd"
   ]
  },
  {
   "cell_type": "code",
   "execution_count": 66,
   "id": "2b775347",
   "metadata": {},
   "outputs": [
    {
     "name": "stdout",
     "output_type": "stream",
     "text": [
      "Training Image Size :  (60000, 28, 28)\n",
      "Test Image Size :  (10000, 28, 28)\n"
     ]
    },
    {
     "data": {
      "image/png": "[encoded data removed]",
      "text/plain": [
       "<Figure size 432x288 with 1 Axes>"
      ]
     },
     "metadata": {
      "needs_background": "light"
     },
     "output_type": "display_data"
    }
   ],
   "source": [
    "# load mnist dataset\n",
    "(X_train, Y_train), (X_test, Y_test) = mnist.load_data()\n",
    "\n",
    "print('Training Image Size : ', X_train.shape)\n",
    "print('Test Image Size : ', X_test.shape)\n",
    "# sample image\n",
    "plt.imshow(X_train[43], cmap=plt.get_cmap('gray'))\n",
    "plt.show()"
   ]
  },
  {
   "cell_type": "markdown",
   "id": "c8c5ef79",
   "metadata": {},
   "source": [
    "### Prepare Data"
   ]
  },
  {
   "cell_type": "code",
   "execution_count": 67,
   "id": "36b661b0",
   "metadata": {},
   "outputs": [],
   "source": [
    "trainX = X_train.reshape([len(X_train),28*28])\n",
    "testX = X_test.reshape([len(X_test),28*28])\n",
    "trainY = Y_train\n",
    "testY = Y_test"
   ]
  },
  {
   "cell_type": "code",
   "execution_count": 68,
   "id": "19f77569",
   "metadata": {},
   "outputs": [],
   "source": [
    "# convert from integers to floats\n",
    "train_norm = trainX.astype('float32')\n",
    "test_norm = testX.astype('float32')\n",
    "\n",
    "# normalize to range 0-1\n",
    "train_norm = train_norm / 255.0\n",
    "test_norm = test_norm / 255.0"
   ]
  },
  {
   "cell_type": "markdown",
   "id": "9ce048ad",
   "metadata": {},
   "source": [
    "## Task 1"
   ]
  },
  {
   "cell_type": "markdown",
   "id": "9c3a2dcb",
   "metadata": {},
   "source": [
    "### Classifier 1 : SVM"
   ]
  },
  {
   "cell_type": "code",
   "execution_count": 69,
   "id": "94669f0a",
   "metadata": {},
   "outputs": [],
   "source": [
    "from sklearn import svm\n",
    "\n",
    "SVM_clf  =  svm.SVC(gamma=10,C=0.001,kernel='poly')\n",
    "SVM_clf.fit(train_norm,trainY)\n",
    "ySVM = SVM_clf.predict(test_norm)\n",
    "svm_accuracy = accuracy_score(testY,ySVM)"
   ]
  },
  {
   "cell_type": "code",
   "execution_count": 70,
   "id": "0ea24eef",
   "metadata": {},
   "outputs": [
    {
     "name": "stdout",
     "output_type": "stream",
     "text": [
      "SVM accuracy : 97.87%\n",
      "              precision    recall  f1-score   support\n",
      "\n",
      "           0       0.98      0.99      0.98       980\n",
      "           1       0.98      0.99      0.99      1135\n",
      "           2       0.98      0.97      0.98      1032\n",
      "           3       0.98      0.98      0.98      1010\n",
      "           4       0.98      0.98      0.98       982\n",
      "           5       0.98      0.97      0.97       892\n",
      "           6       0.98      0.98      0.98       958\n",
      "           7       0.98      0.97      0.98      1028\n",
      "           8       0.98      0.98      0.98       974\n",
      "           9       0.98      0.97      0.97      1009\n",
      "\n",
      "    accuracy                           0.98     10000\n",
      "   macro avg       0.98      0.98      0.98     10000\n",
      "weighted avg       0.98      0.98      0.98     10000\n",
      "\n"
     ]
    }
   ],
   "source": [
    "print('SVM accuracy : ' + str(svm_accuracy*100) + '%')\n",
    "print(classification_report(testY,ySVM))"
   ]
  },
  {
   "cell_type": "markdown",
   "id": "729c47d4",
   "metadata": {},
   "source": [
    "##### Support Vector Machine (SVM) is a supervised machine learning algorithm that can be used for both classification or regression problems. The objective of the support vector machine algorithm is to find a hyperplane in N-dimensional space(N — the number of features) that distinctly classify the data points. \n",
    "##### SVM is a good classifier for high dimensional spaces such as our current problem with 784 features, it also uses a subset of training points in the decision function (called support vectors), so it is also memory efficient, for our 60,000 n dimensional data points. The availability of multiple kernel functions is also a versatile pro which gives us a better option for fitting our image classification problem.\n",
    "##### I have used sklearn's implementation of the algorithm for this task with a polynomial kernel and the hyperparameters C and gamma, the best hyperparameter values were chosen using a run of grid search.\n",
    "####"
   ]
  },
  {
   "cell_type": "markdown",
   "id": "3cfcbd6a",
   "metadata": {},
   "source": [
    "### Classifier 2 : Logistic Regression"
   ]
  },
  {
   "cell_type": "code",
   "execution_count": 71,
   "id": "8dd06d34",
   "metadata": {},
   "outputs": [],
   "source": [
    "from sklearn.linear_model import LogisticRegression\n",
    "\n",
    "LogReg_clf = LogisticRegression(solver = 'lbfgs', max_iter=1000)\n",
    "LogReg_clf.fit(train_norm,trainY)\n",
    "yLR = LogReg_clf.predict(test_norm)\n",
    "LR_accuracy = accuracy_score(testY,yLR)"
   ]
  },
  {
   "cell_type": "code",
   "execution_count": 72,
   "id": "b65431a3",
   "metadata": {},
   "outputs": [
    {
     "name": "stdout",
     "output_type": "stream",
     "text": [
      "Logistic Regression accuracy : 92.56%\n",
      "              precision    recall  f1-score   support\n",
      "\n",
      "           0       0.95      0.97      0.96       980\n",
      "           1       0.96      0.98      0.97      1135\n",
      "           2       0.93      0.90      0.91      1032\n",
      "           3       0.90      0.92      0.91      1010\n",
      "           4       0.94      0.94      0.94       982\n",
      "           5       0.90      0.87      0.88       892\n",
      "           6       0.94      0.95      0.95       958\n",
      "           7       0.93      0.92      0.93      1028\n",
      "           8       0.88      0.88      0.88       974\n",
      "           9       0.91      0.92      0.91      1009\n",
      "\n",
      "    accuracy                           0.93     10000\n",
      "   macro avg       0.92      0.92      0.92     10000\n",
      "weighted avg       0.93      0.93      0.93     10000\n",
      "\n"
     ]
    }
   ],
   "source": [
    "print('Logistic Regression accuracy : ' + str(LR_accuracy*100) + '%')\n",
    "print(classification_report(testY,yLR))"
   ]
  },
  {
   "cell_type": "markdown",
   "id": "bdb77ec9",
   "metadata": {},
   "source": [
    "##### Logistic Regression is the Supervised Learning Algorithm for solving classification problems. In short it can predict the probability of a target variable for a given class. the benefit of logistic regression in image classification is its interpretability we can use the coefficient values to understand what features (i.e. which pixels) areimportant in determining what class a sample belongs to. \n",
    "##### The plot below shows the coefficient vector for each class, with positive coefficients in blue and negative coefficients in red.We can see which pixels are positively associated with belonging to theclass, and which pixels are negatively associated with belonging to the class. For example, consider Class 0. If a sample has large values in the pixels shown in blue (the 0 shape around the center of the image), the probability of that sample being a 0 digit increases. If the sample has large values in the pixels in the center of the image, the probability of the sample being a 0 digit decreases.Many pixels have coefficients whose magnitude are very small. These are shown in white, and they are not very important for this classification task.\n",
    "##### we can clearly see the probabilities form a sort of numerical shape for each class of the numbers\n"
   ]
  },
  {
   "cell_type": "code",
   "execution_count": 86,
   "id": "f29a389f",
   "metadata": {},
   "outputs": [
    {
     "data": {
      "image/png": "[encoded data removed]",
      "text/plain": [
       "<Figure size 1800x180 with 10 Axes>"
      ]
     },
     "metadata": {
      "needs_background": "light"
     },
     "output_type": "display_data"
    }
   ],
   "source": [
    "\n",
    "scale = np.max(np.abs(LogReg_clf.coef_))\n",
    "\n",
    "p = plt.figure(figsize=(25, 2.5));\n",
    "\n",
    "for i in range(10):\n",
    "    p = plt.subplot(1, 10, i + 1)\n",
    "    p = plt.imshow(LogReg_clf.coef_[i].reshape(28, 28),\n",
    "                  cmap=plt.cm.RdBu, vmin=-scale, vmax=scale);\n",
    "    p = plt.axis('off')\n",
    "    p = plt.title('Class %i' % i);"
   ]
  },
  {
   "cell_type": "markdown",
   "id": "d610fe88",
   "metadata": {},
   "source": [
    "### Classifier 3 : XGBoost"
   ]
  },
  {
   "cell_type": "code",
   "execution_count": 73,
   "id": "cddce966",
   "metadata": {},
   "outputs": [],
   "source": [
    "from xgboost import XGBClassifier\n",
    "\n",
    "xgb_clf = XGBClassifier(eval_metric = 'mlogloss',use_label_encoder=False)\n",
    "xgb_clf.fit(train_norm,trainY)\n",
    "yXGB = xgb_clf.predict(test_norm)\n",
    "XGB_accuracy =  accuracy_score(testY,yXGB)"
   ]
  },
  {
   "cell_type": "code",
   "execution_count": 74,
   "id": "a9fc38bc",
   "metadata": {},
   "outputs": [
    {
     "name": "stdout",
     "output_type": "stream",
     "text": [
      "XGboost accuracy : 97.8%\n",
      "              precision    recall  f1-score   support\n",
      "\n",
      "           0       0.97      0.99      0.98       980\n",
      "           1       0.99      0.99      0.99      1135\n",
      "           2       0.97      0.97      0.97      1032\n",
      "           3       0.97      0.98      0.98      1010\n",
      "           4       0.98      0.97      0.98       982\n",
      "           5       0.98      0.97      0.98       892\n",
      "           6       0.98      0.98      0.98       958\n",
      "           7       0.98      0.97      0.97      1028\n",
      "           8       0.97      0.97      0.97       974\n",
      "           9       0.97      0.97      0.97      1009\n",
      "\n",
      "    accuracy                           0.98     10000\n",
      "   macro avg       0.98      0.98      0.98     10000\n",
      "weighted avg       0.98      0.98      0.98     10000\n",
      "\n"
     ]
    }
   ],
   "source": [
    "print('XGboost accuracy : ' + str(XGB_accuracy*100) + '%')\n",
    "print(classification_report(testY,yXGB))"
   ]
  },
  {
   "cell_type": "markdown",
   "id": "3306080f",
   "metadata": {},
   "source": [
    "##### XGBoost is generally not prefferred for image classification or computer vision problems itself, it works well in ensembles with CNN or other image recognition algorithms to provide more accurate results, i chose this algorithm to experiment with how it interprets the classification problem, it surprisingly provides a very good result possibly specific to this particular problem."
   ]
  },
  {
   "cell_type": "markdown",
   "id": "3bb3b0f4",
   "metadata": {},
   "source": [
    "### Comparision Table"
   ]
  },
  {
   "cell_type": "code",
   "execution_count": 85,
   "id": "40d36a9c",
   "metadata": {},
   "outputs": [
    {
     "data": {
      "text/html": [
       "<div>\n",
       "<style scoped>\n",
       "    .dataframe tbody tr th:only-of-type {\n",
       "        vertical-align: middle;\n",
       "    }\n",
       "\n",
       "    .dataframe tbody tr th {\n",
       "        vertical-align: top;\n",
       "    }\n",
       "\n",
       "    .dataframe thead th {\n",
       "        text-align: right;\n",
       "    }\n",
       "</style>\n",
       "<table border=\"1\" class=\"dataframe\">\n",
       "  <thead>\n",
       "    <tr style=\"text-align: right;\">\n",
       "      <th></th>\n",
       "      <th>Model</th>\n",
       "      <th>Accuracy (%)</th>\n",
       "    </tr>\n",
       "  </thead>\n",
       "  <tbody>\n",
       "    <tr>\n",
       "      <th>0</th>\n",
       "      <td>SVM</td>\n",
       "      <td>97.87</td>\n",
       "    </tr>\n",
       "    <tr>\n",
       "      <th>1</th>\n",
       "      <td>Logistic Regression</td>\n",
       "      <td>92.56</td>\n",
       "    </tr>\n",
       "    <tr>\n",
       "      <th>2</th>\n",
       "      <td>XGBoost</td>\n",
       "      <td>97.80</td>\n",
       "    </tr>\n",
       "  </tbody>\n",
       "</table>\n",
       "</div>"
      ],
      "text/plain": [
       "                 Model  Accuracy (%)\n",
       "0                  SVM         97.87\n",
       "1  Logistic Regression         92.56\n",
       "2              XGBoost         97.80"
      ]
     },
     "execution_count": 85,
     "metadata": {},
     "output_type": "execute_result"
    }
   ],
   "source": [
    "pd.DataFrame([['SVM',svm_accuracy*100],\\\n",
    "            ['Logistic Regression',LR_accuracy*100],\\\n",
    "            ['XGBoost',XGB_accuracy*100]],\\\n",
    "                columns=['Model','Accuracy (%)'])"
   ]
  },
  {
   "cell_type": "markdown",
   "id": "fe694e68",
   "metadata": {},
   "source": [
    "## Task 2"
   ]
  },
  {
   "cell_type": "markdown",
   "id": "cfc65d7b",
   "metadata": {},
   "source": [
    "### CNN"
   ]
  },
  {
   "cell_type": "code",
   "execution_count": 76,
   "id": "2f904057",
   "metadata": {},
   "outputs": [],
   "source": [
    "import tensorflow.compat.v1 as tf\n",
    "tf.disable_v2_behavior()\n",
    "import math\n",
    "\n",
    "def get_weights(shape):\n",
    "    data = tf.truncated_normal(shape, stddev=0.1)\n",
    "    return tf.Variable(data)\n",
    "\n",
    "def get_biases(shape):\n",
    "    data = tf.constant(0.1, shape=shape)\n",
    "    return tf.Variable(data)\n",
    "\n",
    "def create_layer(shape):\n",
    "    # Get the weights and biases\n",
    "    W = get_weights(shape)\n",
    "    b = get_biases([shape[-1]])\n",
    "\n",
    "    return W, b\n",
    "\n",
    "def convolution_2d(x, W):\n",
    "    return tf.nn.conv2d(x, W, strides=[1, 1, 1, 1],\n",
    "            padding='SAME')\n",
    "\n",
    "def max_pooling(x):\n",
    "    return tf.nn.max_pool(x, ksize=[1, 2, 2, 1],\n",
    "            strides=[1, 2, 2, 1], padding='SAME')\n",
    "\n",
    "def CNN(X_train, Y_train, X_test, Y_test):\n",
    "    \n",
    "    # The images are 28x28. Create the input layer\n",
    "    x = tf.placeholder(tf.float32, [None, 784])\n",
    "\n",
    "    # Reshape 'x' into a 4D tensor\n",
    "    x_image = tf.reshape(x, [-1, 28, 28, 1])\n",
    "\n",
    "    # Define the first convolutional layer\n",
    "    W_conv1, b_conv1 = create_layer([5, 5, 1, 32])\n",
    "\n",
    "    # Convolve the image with weight tensor, add the\n",
    "    # bias, and then apply the ReLU function\n",
    "    h_conv1 = tf.nn.relu(convolution_2d(x_image,W_conv1) + b_conv1)\n",
    "\n",
    "    # Apply the max pooling operator\n",
    "    h_pool1 = max_pooling(h_conv1)\n",
    "\n",
    "    # Define the second convolutional layer\n",
    "    W_conv2, b_conv2 = create_layer([5,5,32,64])\n",
    "\n",
    "    # Convolve the output of previous layer with the\n",
    "    # weight tensor, add the bias, and then apply\n",
    "    # the ReLU function\n",
    "    h_conv2 = tf.nn.relu(convolution_2d(h_pool1, W_conv2) + b_conv2)\n",
    "\n",
    "    # Apply the max pooling operator\n",
    "    h_pool2 = max_pooling(h_conv2)\n",
    "\n",
    "    # Define the fully connected layer\n",
    "    W_fc1, b_fc1 = create_layer([7 * 7 * 64, 1024])\n",
    "\n",
    "    # Reshape the output of the previous layer\n",
    "    h_pool2_flat = tf.reshape(h_pool2, [-1, 7*7*64])\n",
    "\n",
    "    # Multiply the output of previous layer by the\n",
    "    # weight tensor, add the bias, and then apply\n",
    "    # the ReLU function * Use \"tf.matmul\" for matrix multiplication\n",
    "    h_fc1 = tf.nn.relu(tf.matmul(h_pool2_flat,W_fc1) + b_fc1)\n",
    "\n",
    "    # Define the dropout layer using a probability placeholder\n",
    "    # for all the neurons\n",
    "    keep_prob = tf.placeholder(tf.float32)\n",
    "    h_fc1_drop = tf.nn.dropout(h_fc1, keep_prob)\n",
    "\n",
    "    # Define the readout layer (output layer)\n",
    "    W_fc2, b_fc2 = create_layer([1024, 10])\n",
    "    y_conv = tf.matmul(h_fc1_drop,W_fc2) + b_fc2\n",
    "\n",
    "    # Define the entropy loss and the optimizer\n",
    "    y_loss = tf.placeholder(tf.float32, [None, 10])\n",
    "    loss = tf.reduce_mean(tf.nn.softmax_cross_entropy_with_logits(logits=y_conv, labels=y_loss))\n",
    "    optimizer = tf.train.AdamOptimizer(1e-4).minimize(loss)\n",
    "\n",
    "    # Define the accuracy computation\n",
    "    predicted = tf.equal(tf.argmax(y_conv, 1), tf.argmax(y_loss, 1))\n",
    "    accuracy = tf.reduce_mean(tf.cast(predicted, tf.float32))\n",
    "\n",
    "    # Create and run a session\n",
    "    sess = tf.InteractiveSession()\n",
    "    init = tf.initialize_all_variables()\n",
    "    sess.run(init)\n",
    "\n",
    "    # Start training\n",
    "    batch_size = 75\n",
    "    num_iterations = math.ceil(X_train.shape[0] / batch_size)\n",
    "    start = 0\n",
    "    end = batch_size\n",
    "    print('\\nTraining the model....')\n",
    "    for i in range(num_iterations):\n",
    "        # batch = mnist.train.next_batch(batch_size)\n",
    "        batch = (X_train[start:end], Y_train[start:end])\n",
    "        start = end\n",
    "        end = min(end + batch_size, X_train.shape[0])\n",
    "\n",
    "        # Print progress\n",
    "        if i % 50 == 0:\n",
    "            cur_accuracy = accuracy.eval(feed_dict = {\n",
    "                    x: batch[0], y_loss: batch[1], keep_prob: 1.0})\n",
    "            print('Iteration', i, ', Accuracy =', cur_accuracy)\n",
    "\n",
    "        # Train on the current batch\n",
    "        optimizer.run(feed_dict = {x: batch[0], y_loss: batch[1], keep_prob: 0.5})\n",
    "\n",
    "    # Compute accuracy using test data\n",
    "    test_accuracy = accuracy.eval(feed_dict = {\n",
    "            x: X_test, y_loss: Y_test,\n",
    "            keep_prob: 1.0})\n",
    "    print('Test accuracy =', test_accuracy)\n",
    "    sess.close()\n",
    "    \n",
    "    return test_accuracy"
   ]
  },
  {
   "cell_type": "code",
   "execution_count": 77,
   "id": "a7e1e39e",
   "metadata": {},
   "outputs": [
    {
     "name": "stdout",
     "output_type": "stream",
     "text": [
      "\n",
      "Training the model....\n",
      "Iteration 0 , Accuracy = 0.12\n",
      "Iteration 50 , Accuracy = 0.70666665\n",
      "Iteration 100 , Accuracy = 0.84\n",
      "Iteration 150 , Accuracy = 0.9066667\n",
      "Iteration 200 , Accuracy = 0.9066667\n",
      "Iteration 250 , Accuracy = 0.94666666\n",
      "Iteration 300 , Accuracy = 0.85333335\n",
      "Iteration 350 , Accuracy = 0.96\n",
      "Iteration 400 , Accuracy = 0.93333334\n",
      "Iteration 450 , Accuracy = 0.9066667\n",
      "Iteration 500 , Accuracy = 0.9066667\n",
      "Iteration 550 , Accuracy = 0.9066667\n",
      "Iteration 600 , Accuracy = 0.88\n",
      "Iteration 650 , Accuracy = 0.94666666\n",
      "Iteration 700 , Accuracy = 1.0\n",
      "Iteration 750 , Accuracy = 0.94666666\n",
      "Test accuracy = 0.9631\n"
     ]
    }
   ],
   "source": [
    "Y_train_encoded = to_categorical(Y_train)\n",
    "Y_test_encoded  = to_categorical(Y_test)\n",
    "CNN_accuracy = CNN(train_norm,Y_train_encoded,test_norm,Y_test_encoded)"
   ]
  },
  {
   "cell_type": "markdown",
   "id": "9f2f8afb",
   "metadata": {},
   "source": [
    "## Task 3"
   ]
  },
  {
   "cell_type": "code",
   "execution_count": 78,
   "id": "3d86846b",
   "metadata": {},
   "outputs": [],
   "source": [
    "import cv2\n",
    "import os\n",
    "import numpy as np\n",
    "\n",
    "rootdir = '/Users/pranshusavani/Desktop/my handwriting'\n",
    "\n",
    "def read_img(img_path):\n",
    "    img = cv2.imread(img_path)\n",
    "    x_img = np.array([0] * 784)\n",
    "\n",
    "    for i in range(28):\n",
    "        for j in range(28):\n",
    "            idx = i * 28 + j\n",
    "            x_img[idx] = 255 - img[i][j][0]\n",
    "            \n",
    "    return x_img, img\n",
    "    \n",
    "X_mydigits = []\n",
    "Y_mydigits = []\n",
    "digit_imgs = []\n",
    "\n",
    "# read handwritten digits\n",
    "for subdir, dirs, files in os.walk(rootdir):\n",
    "    for file in files:\n",
    "        if file.endswith(\".png\"):\n",
    "            path = os.path.join(subdir, file)\n",
    "            digit, img = read_img(path)\n",
    "            label = int(os.path.splitext(file)[0])\n",
    "            X_mydigits.append(digit)\n",
    "            Y_mydigits.append(label)\n",
    "            digit_imgs.append(img)\n",
    "\n",
    "X_mydigits = np.array(X_mydigits)\n",
    "Y_mydigits = np.array(Y_mydigits)"
   ]
  },
  {
   "cell_type": "code",
   "execution_count": 79,
   "id": "3187a1e9",
   "metadata": {},
   "outputs": [
    {
     "data": {
      "image/png": "[encoded data removed]",
      "text/plain": [
       "<Figure size 432x288 with 1 Axes>"
      ]
     },
     "metadata": {
      "needs_background": "light"
     },
     "output_type": "display_data"
    }
   ],
   "source": [
    "# show handwritten images\n",
    "temp_img = ''\n",
    "for i in range(5):\n",
    "    hor = ''\n",
    "    for j in range(10):\n",
    "        idx = i*10 + j\n",
    "        img = digit_imgs[idx]\n",
    "        if j == 0:\n",
    "            hor = img\n",
    "        else:\n",
    "            hor = np.hstack((hor, img))\n",
    "    if i == 0:\n",
    "        temp_img = hor\n",
    "    else:\n",
    "        temp_img = np.vstack((temp_img, hor))\n",
    "\n",
    "plt.imshow(temp_img)\n",
    "plt.axis('off')\n",
    "plt.show()"
   ]
  },
  {
   "cell_type": "code",
   "execution_count": 80,
   "id": "7ed59d2b",
   "metadata": {},
   "outputs": [],
   "source": [
    "X_mydigits_norm  = X_mydigits.astype('float32')\n",
    "X_mydigits_norm = X_mydigits_norm / 255.0"
   ]
  },
  {
   "cell_type": "code",
   "execution_count": 81,
   "id": "fdbb43f0",
   "metadata": {},
   "outputs": [
    {
     "name": "stdout",
     "output_type": "stream",
     "text": [
      "\n",
      "Training the model....\n",
      "Iteration 0 , Accuracy = 0.093333334\n",
      "Iteration 50 , Accuracy = 0.81333333\n",
      "Iteration 100 , Accuracy = 0.84\n",
      "Iteration 150 , Accuracy = 0.8933333\n",
      "Iteration 200 , Accuracy = 0.92\n",
      "Iteration 250 , Accuracy = 0.94666666\n",
      "Iteration 300 , Accuracy = 0.85333335\n",
      "Iteration 350 , Accuracy = 0.96\n",
      "Iteration 400 , Accuracy = 0.92\n",
      "Iteration 450 , Accuracy = 0.93333334\n",
      "Iteration 500 , Accuracy = 0.92\n",
      "Iteration 550 , Accuracy = 0.88\n",
      "Iteration 600 , Accuracy = 0.9066667\n",
      "Iteration 650 , Accuracy = 0.97333336\n",
      "Iteration 700 , Accuracy = 1.0\n",
      "Iteration 750 , Accuracy = 0.94666666\n",
      "Test accuracy = 0.08\n"
     ]
    }
   ],
   "source": [
    "acc_mydig_SVM = accuracy_score(Y_mydigits,SVM_clf.predict(X_mydigits_norm))\n",
    "acc_mydig_LR = accuracy_score(Y_mydigits,LogReg_clf.predict(X_mydigits_norm))\n",
    "acc_mydig_XGB = accuracy_score(Y_mydigits,xgb_clf.predict(X_mydigits_norm))\n",
    "acc_mydig_CNN = CNN(train_norm,Y_train_encoded,X_mydigits_norm,to_categorical(Y_mydigits))\n"
   ]
  },
  {
   "cell_type": "code",
   "execution_count": 84,
   "id": "93a47d38",
   "metadata": {},
   "outputs": [
    {
     "data": {
      "text/html": [
       "<div>\n",
       "<style scoped>\n",
       "    .dataframe tbody tr th:only-of-type {\n",
       "        vertical-align: middle;\n",
       "    }\n",
       "\n",
       "    .dataframe tbody tr th {\n",
       "        vertical-align: top;\n",
       "    }\n",
       "\n",
       "    .dataframe thead th {\n",
       "        text-align: right;\n",
       "    }\n",
       "</style>\n",
       "<table border=\"1\" class=\"dataframe\">\n",
       "  <thead>\n",
       "    <tr style=\"text-align: right;\">\n",
       "      <th></th>\n",
       "      <th>Model</th>\n",
       "      <th>Accuracy (%)</th>\n",
       "    </tr>\n",
       "  </thead>\n",
       "  <tbody>\n",
       "    <tr>\n",
       "      <th>0</th>\n",
       "      <td>SVM</td>\n",
       "      <td>2.0</td>\n",
       "    </tr>\n",
       "    <tr>\n",
       "      <th>1</th>\n",
       "      <td>Logistic Regression</td>\n",
       "      <td>2.0</td>\n",
       "    </tr>\n",
       "    <tr>\n",
       "      <th>2</th>\n",
       "      <td>XGBoost</td>\n",
       "      <td>4.0</td>\n",
       "    </tr>\n",
       "    <tr>\n",
       "      <th>3</th>\n",
       "      <td>CNN</td>\n",
       "      <td>8.0</td>\n",
       "    </tr>\n",
       "  </tbody>\n",
       "</table>\n",
       "</div>"
      ],
      "text/plain": [
       "                 Model  Accuracy (%)\n",
       "0                  SVM           2.0\n",
       "1  Logistic Regression           2.0\n",
       "2              XGBoost           4.0\n",
       "3                  CNN           8.0"
      ]
     },
     "execution_count": 84,
     "metadata": {},
     "output_type": "execute_result"
    }
   ],
   "source": [
    "pd.DataFrame([['SVM',acc_mydig_SVM*100],\\\n",
    "            ['Logistic Regression',acc_mydig_LR*100],\\\n",
    "            ['XGBoost',acc_mydig_XGB*100],\\\n",
    "            ['CNN',acc_mydig_CNN*100]],\\\n",
    "                columns=['Model','Accuracy (%)'])"
   ]
  },
  {
   "cell_type": "markdown",
   "id": "23862957",
   "metadata": {},
   "source": [
    "### Potential Gaps Identified\n",
    "\n",
    "##### In the Mnist dataset the images are well centered from the edges, the handwritings are not too vague to become outliers, also the CNN model I trained has only 2 convolution layers with a small number of filters and channel size, deeper neural networks would definitely give better results."
   ]
  },
  {
   "cell_type": "markdown",
   "id": "374c1d7c",
   "metadata": {},
   "source": []
  }
 ],
 "metadata": {
  "interpreter": {
   "hash": "af2ae0b2d1afef30729054acd7884eecb75ec13e978a0196b5f9b32b71a04819"
  },
  "kernelspec": {
   "display_name": "Python 3.9.7 64-bit ('mllibs': conda)",
   "language": "python",
   "name": "python3"
  },
  "language_info": {
   "codemirror_mode": {
    "name": "ipython",
    "version": 3
   },
   "file_extension": ".py",
   "mimetype": "text/x-python",
   "name": "python",
   "nbconvert_exporter": "python",
   "pygments_lexer": "ipython3",
   "version": "3.9.7"
  }
 },
 "nbformat": 4,
 "nbformat_minor": 5
}
